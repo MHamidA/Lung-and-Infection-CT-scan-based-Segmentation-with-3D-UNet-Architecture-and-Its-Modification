{
  "nbformat": 4,
  "nbformat_minor": 0,
  "metadata": {
    "colab": {
      "provenance": [],
      "collapsed_sections": [
        "dYVQLdjBIb51",
        "MCV95PFXpD-t",
        "ofOsxIKoIepX"
      ],
      "machine_shape": "hm"
    },
    "kernelspec": {
      "name": "python3",
      "display_name": "Python 3"
    },
    "language_info": {
      "name": "python"
    },
    "gpuClass": "standard",
    "accelerator": "GPU"
  },
  "cells": [
    {
      "cell_type": "markdown",
      "source": [
        "#Install and Load Library Needed"
      ],
      "metadata": {
        "id": "sOpXnh-hoxYV"
      }
    },
    {
      "cell_type": "code",
      "source": [
        "!pip install segmentation-models-3d"
      ],
      "metadata": {
        "id": "lQJmnZQvIP53"
      },
      "execution_count": null,
      "outputs": []
    },
    {
      "cell_type": "code",
      "execution_count": null,
      "metadata": {
        "id": "2H4Me1ZEIHqZ",
        "colab": {
          "base_uri": "https://localhost:8080/"
        },
        "outputId": "18c58b59-d17c-4163-fe18-54cc7551ff16"
      },
      "outputs": [
        {
          "output_type": "stream",
          "name": "stdout",
          "text": [
            "Segmentation Models: using `tf.keras` framework.\n"
          ]
        }
      ],
      "source": [
        "from keras.models import load_model\n",
        "import nibabel as nib\n",
        "import numpy as np\n",
        "import random\n",
        "import matplotlib.pyplot as plt\n",
        "import segmentation_models_3D as sm\n",
        "import tensorflow as tf\n",
        "import re\n",
        "import os"
      ]
    },
    {
      "cell_type": "markdown",
      "source": [
        "#Define the costumized metrics from segmentation library"
      ],
      "metadata": {
        "id": "rPSaqlCuo5vc"
      }
    },
    {
      "cell_type": "code",
      "source": [
        "dice_loss = sm.losses.DiceLoss() \n",
        "focal_loss = sm.losses.CategoricalFocalLoss()\n",
        "total_loss = dice_loss + (1 * focal_loss)"
      ],
      "metadata": {
        "id": "sXcRy7IgI4kl"
      },
      "execution_count": null,
      "outputs": []
    },
    {
      "cell_type": "code",
      "source": [
        "def sorted_alphanumeric(data):\n",
        "    convert = lambda text: int(text) if text.isdigit() else text.lower()\n",
        "    alphanum_key = lambda key: [ convert(c) for c in re.split('([0-9]+)', key) ] \n",
        "    return sorted(data, key=alphanum_key)"
      ],
      "metadata": {
        "id": "ReXoEH38Jb4i"
      },
      "execution_count": null,
      "outputs": []
    },
    {
      "cell_type": "markdown",
      "source": [
        "#Lungs Models"
      ],
      "metadata": {
        "id": "dYVQLdjBIb51"
      }
    },
    {
      "cell_type": "markdown",
      "source": [
        "##Load Test Data for Lungs Evaluation"
      ],
      "metadata": {
        "id": "MCV95PFXpD-t"
      }
    },
    {
      "cell_type": "code",
      "source": [
        "import os \n",
        "import numpy as np\n",
        "import matplotlib.pyplot as plt\n",
        "import random\n",
        "import tifffile as tiff\n",
        "from tifffile import imread\n",
        "\n",
        "def load_img(img_dir, img_list):\n",
        "    images=[]\n",
        "    for i, image_name in enumerate(img_list):    \n",
        "        if (image_name.split('.')[1] == 'npy'):\n",
        "            \n",
        "            image = np.load(img_dir+image_name).astype(np.float32)\n",
        "                      \n",
        "            images.append(image)\n",
        "    images = np.array(images)\n",
        "    \n",
        "    return(images)\n",
        "\n",
        "  \n",
        "def imageLoader(img_dir, img_list, mask_dir, mask_list, batch_size):\n",
        "  \n",
        "  length = len(img_list)\n",
        "\n",
        "  while True:\n",
        "    batch_start = 0\n",
        "    batch_end = batch_size\n",
        "\n",
        "    while batch_start < length:\n",
        "      limit = min(batch_end, length)\n",
        "      X = load_img(img_dir, img_list[batch_start:limit])\n",
        "      Y = load_img(mask_dir, mask_list[batch_start:limit])\n",
        "\n",
        "      yield(X, Y)\n",
        "\n",
        "      batch_start += batch_size\n",
        "      batch_end += batch_size\n"
      ],
      "metadata": {
        "id": "PSahdbjMJJKN"
      },
      "execution_count": null,
      "outputs": []
    },
    {
      "cell_type": "code",
      "source": [
        "train_img_dir = '/content/drive/MyDrive/3D Segmentation/splitted 75 lung 128 data/train/ctscan/'\n",
        "train_mask_dir = '/content/drive/MyDrive/3D Segmentation/splitted 75 lung 128 data/train/lung/'\n",
        "\n",
        "train_img_list= sorted_alphanumeric(os.listdir(train_img_dir))\n",
        "train_mask_list = sorted_alphanumeric(os.listdir(train_mask_dir))"
      ],
      "metadata": {
        "id": "gVDoRMg--wzW"
      },
      "execution_count": null,
      "outputs": []
    },
    {
      "cell_type": "code",
      "source": [
        "batch_size = 1\n",
        "\n",
        "train_img_datagen = imageLoader(train_img_dir, train_img_list, \n",
        "                                train_mask_dir, train_mask_list, batch_size)"
      ],
      "metadata": {
        "id": "If-KmpM1_MeA"
      },
      "execution_count": null,
      "outputs": []
    },
    {
      "cell_type": "code",
      "source": [
        "test_img_dir = \"/content/drive/MyDrive/3D Segmentation/splitted 75 lung 128 data/val/ctscan/\"\n",
        "test_mask_dir = \"/content/drive/MyDrive/3D Segmentation/splitted 75 lung 128 data/val/lung/\"\n",
        "\n",
        "test_img_list= sorted_alphanumeric(os.listdir(test_img_dir))\n",
        "test_mask_list = sorted_alphanumeric(os.listdir(test_mask_dir))"
      ],
      "metadata": {
        "id": "HPcEVTTCJOmt"
      },
      "execution_count": null,
      "outputs": []
    },
    {
      "cell_type": "code",
      "source": [
        "batch_size = 1\n",
        "\n",
        "test_img_datagen = imageLoader(test_img_dir, test_img_list, \n",
        "                                test_mask_dir, test_mask_list, batch_size)"
      ],
      "metadata": {
        "id": "loBIQ4pUJjYo"
      },
      "execution_count": null,
      "outputs": []
    },
    {
      "cell_type": "code",
      "source": [
        "steps_per_epoch = len(train_img_list)//batch_size\n",
        "val_steps_per_epoch = len(test_img_list)//batch_size"
      ],
      "metadata": {
        "id": "BCsUrSlR_h15"
      },
      "execution_count": null,
      "outputs": []
    },
    {
      "cell_type": "code",
      "source": [
        "imgtest, msktest = test_img_datagen.__next__()"
      ],
      "metadata": {
        "id": "fGJTj9McJ2eK"
      },
      "execution_count": null,
      "outputs": []
    },
    {
      "cell_type": "markdown",
      "source": [
        "##Pure 3DUnet"
      ],
      "metadata": {
        "id": "ofOsxIKoIepX"
      }
    },
    {
      "cell_type": "code",
      "source": [
        "model = load_model('/content/drive/MyDrive/3D Segmentation/Lungs model/pureunetlung75.h5', custom_objects = {'dice_loss_plus_1focal_loss': total_loss, 'iou_score':sm.metrics.IOUScore(threshold=0.5), 'f1-score':sm.metrics.FScore(),'dice_loss':sm.losses.DiceLoss(),'binary_focal_loss':sm.losses.CategoricalFocalLoss(),'jaccard_loss':sm.losses.JaccardLoss()})"
      ],
      "metadata": {
        "id": "DSzJdHBmIi29"
      },
      "execution_count": null,
      "outputs": []
    },
    {
      "cell_type": "code",
      "source": [
        "#add more metrics\n",
        "metrics = [sm.metrics.IOUScore(threshold=0.5), sm.losses.DiceLoss(), sm.losses.JaccardLoss(),'accuracy',tf.keras.metrics.Precision(),tf.keras.metrics.Recall()]\n",
        "LR = 0.0001\n",
        "optim = tf.keras.optimizers.Adam(LR)\n",
        "model.compile(optimizer = optim, loss=total_loss, metrics=metrics)\n",
        "\n",
        "mevaluate = model.fit(train_img_datagen,\n",
        "                      steps_per_epoch=steps_per_epoch,\n",
        "                      epochs=1,\n",
        "                      validation_data=test_img_datagen,\n",
        "                      validation_steps=val_steps_per_epoch)"
      ],
      "metadata": {
        "colab": {
          "base_uri": "https://localhost:8080/"
        },
        "id": "ugrxTwdw92ee",
        "outputId": "563bd664-700c-45f4-864b-dd7e2f931b76"
      },
      "execution_count": null,
      "outputs": [
        {
          "output_type": "stream",
          "name": "stdout",
          "text": [
            "15/15 [==============================] - 33s 1s/step - loss: 0.0218 - iou_score: 0.9627 - dice_loss: 0.0194 - jaccard_loss: 0.0380 - accuracy: 0.9961 - precision: 0.9821 - recall: 0.9816 - val_loss: 0.0352 - val_iou_score: 0.9415 - val_dice_loss: 0.0304 - val_jaccard_loss: 0.0589 - val_accuracy: 0.9937 - val_precision: 0.9758 - val_recall: 0.9657\n"
          ]
        }
      ]
    },
    {
      "cell_type": "code",
      "source": [
        "test = imageLoader(test_img_dir, test_img_list, \n",
        "                                test_mask_dir, test_mask_list, 5)\n",
        "\n",
        "imgtest, msktest = test.__next__()"
      ],
      "metadata": {
        "id": "w0uH1rk7Dfdy"
      },
      "execution_count": null,
      "outputs": []
    },
    {
      "cell_type": "code",
      "source": [
        "model.evaluate(imgtest,msktest)"
      ],
      "metadata": {
        "colab": {
          "base_uri": "https://localhost:8080/"
        },
        "id": "xwWpgqACJHlK",
        "outputId": "e4ebfbd5-b1fa-4540-f16a-6381c1f1745c"
      },
      "execution_count": null,
      "outputs": [
        {
          "output_type": "stream",
          "name": "stdout",
          "text": [
            "1/1 [==============================] - 1s 540ms/step - loss: 0.0343 - iou_score: 0.9432 - dice_loss: 0.0295 - jaccard_loss: 0.0573 - accuracy: 0.9937 - precision: 0.9758 - recall: 0.9657\n"
          ]
        },
        {
          "output_type": "execute_result",
          "data": {
            "text/plain": [
              "[0.03428349643945694,\n",
              " 0.9431798458099365,\n",
              " 0.029482901096343994,\n",
              " 0.057276904582977295,\n",
              " 0.9937433004379272,\n",
              " 0.9758269786834717,\n",
              " 0.9657437801361084]"
            ]
          },
          "metadata": {},
          "execution_count": 16
        }
      ]
    },
    {
      "cell_type": "markdown",
      "source": [
        "##3DVGGUnet (VGG19)"
      ],
      "metadata": {
        "id": "nz7n5ymeKibn"
      }
    },
    {
      "cell_type": "markdown",
      "source": [
        "### **Without** Transfer Learning"
      ],
      "metadata": {
        "id": "YN5VPR_BKrU_"
      }
    },
    {
      "cell_type": "code",
      "source": [
        "model = load_model('/content/drive/MyDrive/3D Segmentation/Lungs model/vggnew/vgg19unetlung75_notf.h5', custom_objects = {'dice_loss_plus_1focal_loss': total_loss, 'iou_score':sm.metrics.IOUScore(threshold=0.5), 'f1-score':sm.metrics.FScore(),'dice_loss':sm.losses.DiceLoss(),'focal_loss':sm.losses.CategoricalFocalLoss(),'jaccard_loss':sm.losses.JaccardLoss()})"
      ],
      "metadata": {
        "id": "S6VG-SWkKqOb"
      },
      "execution_count": null,
      "outputs": []
    },
    {
      "cell_type": "code",
      "source": [
        "#add more metrics\n",
        "metrics = [sm.metrics.IOUScore(threshold=0.5), sm.losses.DiceLoss(), sm.losses.JaccardLoss(),'accuracy',tf.keras.metrics.Precision(),tf.keras.metrics.Recall()]\n",
        "LR = 0.0001\n",
        "optim = tf.keras.optimizers.Adam(LR)\n",
        "model.compile(optimizer = optim, loss=total_loss, metrics=metrics)\n",
        "\n",
        "mevaluate = model.fit(train_img_datagen,\n",
        "                      steps_per_epoch=steps_per_epoch,\n",
        "                      epochs=1,\n",
        "                      validation_data=test_img_datagen,\n",
        "                      validation_steps=val_steps_per_epoch)"
      ],
      "metadata": {
        "colab": {
          "base_uri": "https://localhost:8080/"
        },
        "outputId": "0eb581ff-32f5-458d-8199-6cc31614d7cf",
        "id": "_Lqk8z3eFDiO"
      },
      "execution_count": null,
      "outputs": [
        {
          "output_type": "stream",
          "name": "stdout",
          "text": [
            "15/15 [==============================] - 35s 2s/step - loss: 0.0058 - iou_score: 0.9911 - dice_loss: 0.0055 - jaccard_loss: 0.0110 - accuracy: 0.9991 - precision_1: 0.9945 - recall_1: 0.9967 - val_loss: 0.0420 - val_iou_score: 0.9309 - val_dice_loss: 0.0367 - val_jaccard_loss: 0.0704 - val_accuracy: 0.9920 - val_precision_1: 0.9555 - val_recall_1: 0.9707\n"
          ]
        }
      ]
    },
    {
      "cell_type": "code",
      "source": [
        "test = imageLoader(test_img_dir, test_img_list, \n",
        "                                test_mask_dir, test_mask_list, 5)\n",
        "\n",
        "imgtest, msktest = test.__next__()"
      ],
      "metadata": {
        "id": "WCEAnZ0cFDiO"
      },
      "execution_count": null,
      "outputs": []
    },
    {
      "cell_type": "code",
      "source": [
        "model.evaluate(imgtest,msktest)"
      ],
      "metadata": {
        "colab": {
          "base_uri": "https://localhost:8080/"
        },
        "id": "L4QzejA4K-e0",
        "outputId": "4de1e65c-612d-4a73-804f-963c072c735c"
      },
      "execution_count": null,
      "outputs": [
        {
          "output_type": "stream",
          "name": "stdout",
          "text": [
            "1/1 [==============================] - 7s 7s/step - loss: 0.0430 - iou_score: 0.9287 - dice_loss: 0.0376 - jaccard_loss: 0.0726 - accuracy: 0.9920 - precision_1: 0.9555 - recall_1: 0.9707\n"
          ]
        },
        {
          "output_type": "execute_result",
          "data": {
            "text/plain": [
              "[0.04295634105801582,\n",
              " 0.9287487864494324,\n",
              " 0.037646710872650146,\n",
              " 0.07256132364273071,\n",
              " 0.9919915199279785,\n",
              " 0.9555427432060242,\n",
              " 0.9706929922103882]"
            ]
          },
          "metadata": {},
          "execution_count": 20
        }
      ]
    },
    {
      "cell_type": "markdown",
      "source": [
        "### **With** Transfer Learning"
      ],
      "metadata": {
        "id": "WZZa1owxMN10"
      }
    },
    {
      "cell_type": "code",
      "source": [
        "model = load_model('/content/drive/MyDrive/3D Segmentation/Lungs model/vggnew/vgg19unetlung75_tf.h5', custom_objects = {'dice_loss_plus_1focal_loss': total_loss, 'iou_score':sm.metrics.IOUScore(threshold=0.5), 'f1-score':sm.metrics.FScore(),'dice_loss':sm.losses.DiceLoss(),'focal_loss':sm.losses.CategoricalFocalLoss(),'jaccard_loss':sm.losses.JaccardLoss()})"
      ],
      "metadata": {
        "id": "qpqEvZivMN11"
      },
      "execution_count": null,
      "outputs": []
    },
    {
      "cell_type": "code",
      "source": [
        "#add more metrics\n",
        "metrics = [sm.metrics.IOUScore(threshold=0.5), sm.losses.DiceLoss(), sm.losses.JaccardLoss(),'accuracy',tf.keras.metrics.Precision(),tf.keras.metrics.Recall()]\n",
        "LR = 0.0001\n",
        "optim = tf.keras.optimizers.Adam(LR)\n",
        "model.compile(optimizer = optim, loss=total_loss, metrics=metrics)\n",
        "\n",
        "mevaluate = model.fit(train_img_datagen,\n",
        "                      steps_per_epoch=steps_per_epoch,\n",
        "                      epochs=1,\n",
        "                      validation_data=test_img_datagen,\n",
        "                      validation_steps=val_steps_per_epoch)"
      ],
      "metadata": {
        "colab": {
          "base_uri": "https://localhost:8080/"
        },
        "outputId": "8348a4fe-9b52-47f9-dc65-8047a907fd37",
        "id": "dazv8JR5FToH"
      },
      "execution_count": null,
      "outputs": [
        {
          "output_type": "stream",
          "name": "stdout",
          "text": [
            "15/15 [==============================] - ETA: 0s - loss: 0.0105 - iou_score: 0.9821 - dice_loss: 0.0099 - jaccard_loss: 0.0195 - accuracy: 0.9981 - precision_2: 0.9886 - recall_2: 0.9933WARNING:tensorflow:5 out of the last 14 calls to <function Model.make_test_function.<locals>.test_function at 0x7fd9d66d95f0> triggered tf.function retracing. Tracing is expensive and the excessive number of tracings could be due to (1) creating @tf.function repeatedly in a loop, (2) passing tensors with different shapes, (3) passing Python objects instead of tensors. For (1), please define your @tf.function outside of the loop. For (2), @tf.function has experimental_relax_shapes=True option that relaxes argument shapes that can avoid unnecessary retracing. For (3), please refer to https://www.tensorflow.org/guide/function#controlling_retracing and https://www.tensorflow.org/api_docs/python/tf/function for  more details.\n",
            "15/15 [==============================] - 30s 2s/step - loss: 0.0105 - iou_score: 0.9821 - dice_loss: 0.0099 - jaccard_loss: 0.0195 - accuracy: 0.9981 - precision_2: 0.9886 - recall_2: 0.9933 - val_loss: 0.0398 - val_iou_score: 0.9393 - val_dice_loss: 0.0320 - val_jaccard_loss: 0.0618 - val_accuracy: 0.9934 - val_precision_2: 0.9777 - val_recall_2: 0.9600\n"
          ]
        }
      ]
    },
    {
      "cell_type": "code",
      "source": [
        "test = imageLoader(test_img_dir, test_img_list, \n",
        "                                test_mask_dir, test_mask_list, 5)\n",
        "\n",
        "imgtest, msktest = test.__next__()"
      ],
      "metadata": {
        "id": "PuTXK0oXFToJ"
      },
      "execution_count": null,
      "outputs": []
    },
    {
      "cell_type": "code",
      "source": [
        "model.evaluate(imgtest,msktest)"
      ],
      "metadata": {
        "colab": {
          "base_uri": "https://localhost:8080/"
        },
        "outputId": "467d7d30-44fe-4899-917b-4e3fc1c566b9",
        "id": "FW9ctjFAMN12"
      },
      "execution_count": null,
      "outputs": [
        {
          "output_type": "stream",
          "name": "stdout",
          "text": [
            "1/1 [==============================] - 3s 3s/step - loss: 0.0396 - iou_score: 0.9395 - dice_loss: 0.0318 - jaccard_loss: 0.0616 - accuracy: 0.9934 - precision_2: 0.9777 - recall_2: 0.9600\n"
          ]
        },
        {
          "output_type": "execute_result",
          "data": {
            "text/plain": [
              "[0.039649177342653275,\n",
              " 0.9394885301589966,\n",
              " 0.031767845153808594,\n",
              " 0.06157946586608887,\n",
              " 0.9933502078056335,\n",
              " 0.9777266979217529,\n",
              " 0.9600354433059692]"
            ]
          },
          "metadata": {},
          "execution_count": 24
        }
      ]
    },
    {
      "cell_type": "markdown",
      "source": [
        "##3DResUnet (ResNet152)"
      ],
      "metadata": {
        "id": "ANfPE2JUMosR"
      }
    },
    {
      "cell_type": "markdown",
      "source": [
        "### **Without** Transfer Learning"
      ],
      "metadata": {
        "id": "alYGEt-rMosV"
      }
    },
    {
      "cell_type": "code",
      "source": [
        "model = load_model('/content/drive/MyDrive/3D Segmentation/Lungs model/resenet152unetlung75_notf.h5', custom_objects = {'dice_loss_plus_1focal_loss': total_loss, 'iou_score':sm.metrics.IOUScore(threshold=0.5), 'f1-score':sm.metrics.FScore(),'dice_loss':sm.losses.DiceLoss(),'focal_loss':sm.losses.CategoricalFocalLoss(),'jaccard_loss':sm.losses.JaccardLoss()})"
      ],
      "metadata": {
        "id": "60ex_EQJMosV"
      },
      "execution_count": null,
      "outputs": []
    },
    {
      "cell_type": "code",
      "source": [
        "#add more metrics\n",
        "metrics = [sm.metrics.IOUScore(threshold=0.5), sm.losses.DiceLoss(), sm.losses.JaccardLoss(),'accuracy',tf.keras.metrics.Precision(),tf.keras.metrics.Recall()]\n",
        "LR = 0.0001\n",
        "optim = tf.keras.optimizers.Adam(LR)\n",
        "model.compile(optimizer = optim, loss=total_loss, metrics=metrics)\n",
        "\n",
        "mevaluate = model.fit(train_img_datagen,\n",
        "                      steps_per_epoch=steps_per_epoch,\n",
        "                      epochs=1,\n",
        "                      validation_data=test_img_datagen,\n",
        "                      validation_steps=val_steps_per_epoch)"
      ],
      "metadata": {
        "colab": {
          "base_uri": "https://localhost:8080/"
        },
        "outputId": "52a89cd2-5a60-430a-dd47-c3098be7033d",
        "id": "rc_Z3YO1FYLT"
      },
      "execution_count": null,
      "outputs": [
        {
          "output_type": "stream",
          "name": "stdout",
          "text": [
            "15/15 [==============================] - ETA: 0s - loss: 0.0068 - iou_score: 0.9894 - dice_loss: 0.0065 - jaccard_loss: 0.0130 - accuracy: 0.9989 - precision_3: 0.9937 - recall_3: 0.9960WARNING:tensorflow:5 out of the last 13 calls to <function Model.make_test_function.<locals>.test_function at 0x7fd76a14f3b0> triggered tf.function retracing. Tracing is expensive and the excessive number of tracings could be due to (1) creating @tf.function repeatedly in a loop, (2) passing tensors with different shapes, (3) passing Python objects instead of tensors. For (1), please define your @tf.function outside of the loop. For (2), @tf.function has experimental_relax_shapes=True option that relaxes argument shapes that can avoid unnecessary retracing. For (3), please refer to https://www.tensorflow.org/guide/function#controlling_retracing and https://www.tensorflow.org/api_docs/python/tf/function for  more details.\n",
            "15/15 [==============================] - 40s 1s/step - loss: 0.0068 - iou_score: 0.9894 - dice_loss: 0.0065 - jaccard_loss: 0.0130 - accuracy: 0.9989 - precision_3: 0.9937 - recall_3: 0.9960 - val_loss: 0.0942 - val_iou_score: 0.8482 - val_dice_loss: 0.0861 - val_jaccard_loss: 0.1542 - val_accuracy: 0.9793 - val_precision_3: 0.8662 - val_recall_3: 0.9554\n"
          ]
        }
      ]
    },
    {
      "cell_type": "code",
      "source": [
        "test = imageLoader(test_img_dir, test_img_list, \n",
        "                                test_mask_dir, test_mask_list, 5)\n",
        "\n",
        "imgtest, msktest = test.__next__()"
      ],
      "metadata": {
        "id": "O4txnXyzFYLU"
      },
      "execution_count": null,
      "outputs": []
    },
    {
      "cell_type": "code",
      "source": [
        "model.evaluate(imgtest,msktest)"
      ],
      "metadata": {
        "colab": {
          "base_uri": "https://localhost:8080/"
        },
        "outputId": "c7a85620-c133-4e70-8a05-b557e41b5348",
        "id": "IjH0IipuMosW"
      },
      "execution_count": null,
      "outputs": [
        {
          "output_type": "stream",
          "name": "stdout",
          "text": [
            "1/1 [==============================] - 4s 4s/step - loss: 0.1010 - iou_score: 0.8325 - dice_loss: 0.0928 - jaccard_loss: 0.1698 - accuracy: 0.9793 - precision_3: 0.8662 - recall_3: 0.9554\n"
          ]
        },
        {
          "output_type": "execute_result",
          "data": {
            "text/plain": [
              "[0.10098471492528915,\n",
              " 0.8325499892234802,\n",
              " 0.09280425310134888,\n",
              " 0.16984599828720093,\n",
              " 0.9793353080749512,\n",
              " 0.8662249445915222,\n",
              " 0.955388605594635]"
            ]
          },
          "metadata": {},
          "execution_count": 28
        }
      ]
    },
    {
      "cell_type": "markdown",
      "source": [
        "### **With** Transfer Learning"
      ],
      "metadata": {
        "id": "5AP6EJZpMosW"
      }
    },
    {
      "cell_type": "code",
      "source": [
        "model = load_model('/content/drive/MyDrive/3D Segmentation/Lungs model/resenet152unetlung75_tf.h5', custom_objects = {'dice_loss_plus_1focal_loss': total_loss, 'iou_score':sm.metrics.IOUScore(threshold=0.5), 'f1-score':sm.metrics.FScore(),'dice_loss':sm.losses.DiceLoss(),'focal_loss':sm.losses.CategoricalFocalLoss(),'jaccard_loss':sm.losses.JaccardLoss()})"
      ],
      "metadata": {
        "id": "fOWUmKh_MosX"
      },
      "execution_count": null,
      "outputs": []
    },
    {
      "cell_type": "code",
      "source": [
        "#add more metrics\n",
        "metrics = [sm.metrics.IOUScore(threshold=0.5), sm.losses.DiceLoss(), sm.losses.JaccardLoss(),'accuracy',tf.keras.metrics.Precision(),tf.keras.metrics.Recall()]\n",
        "LR = 0.0001\n",
        "optim = tf.keras.optimizers.Adam(LR)\n",
        "model.compile(optimizer = optim, loss=total_loss, metrics=metrics)\n",
        "\n",
        "mevaluate = model.fit(train_img_datagen,\n",
        "                      steps_per_epoch=steps_per_epoch,\n",
        "                      epochs=1,\n",
        "                      validation_data=test_img_datagen,\n",
        "                      validation_steps=val_steps_per_epoch)"
      ],
      "metadata": {
        "colab": {
          "base_uri": "https://localhost:8080/"
        },
        "outputId": "73497aa8-a57f-4191-ce90-7566da792216",
        "id": "BvKgDv4AFa2d"
      },
      "execution_count": null,
      "outputs": [
        {
          "output_type": "stream",
          "name": "stdout",
          "text": [
            "15/15 [==============================] - 36s 1s/step - loss: 0.0048 - iou_score: 0.9925 - dice_loss: 0.0046 - jaccard_loss: 0.0091 - accuracy: 0.9992 - precision_4: 0.9955 - recall_4: 0.9973 - val_loss: 0.0557 - val_iou_score: 0.9163 - val_dice_loss: 0.0444 - val_jaccard_loss: 0.0848 - val_accuracy: 0.9909 - val_precision_4: 0.9654 - val_recall_4: 0.9496\n"
          ]
        }
      ]
    },
    {
      "cell_type": "code",
      "source": [
        "test = imageLoader(test_img_dir, test_img_list, \n",
        "                                test_mask_dir, test_mask_list, 5)\n",
        "\n",
        "imgtest, msktest = test.__next__()"
      ],
      "metadata": {
        "id": "DKgMMgwmFa2e"
      },
      "execution_count": null,
      "outputs": []
    },
    {
      "cell_type": "code",
      "source": [
        "model.evaluate(imgtest,msktest)"
      ],
      "metadata": {
        "colab": {
          "base_uri": "https://localhost:8080/"
        },
        "id": "cIKmD87UMosX",
        "outputId": "f136f0e8-e0c4-45cc-a64d-ddf4b8758661"
      },
      "execution_count": null,
      "outputs": [
        {
          "output_type": "stream",
          "name": "stdout",
          "text": [
            "1/1 [==============================] - 4s 4s/step - loss: 0.0544 - iou_score: 0.9183 - dice_loss: 0.0431 - jaccard_loss: 0.0827 - accuracy: 0.9909 - precision_4: 0.9654 - recall_4: 0.9496\n"
          ]
        },
        {
          "output_type": "execute_result",
          "data": {
            "text/plain": [
              "[0.05436595529317856,\n",
              " 0.9183058142662048,\n",
              " 0.043125033378601074,\n",
              " 0.08268451690673828,\n",
              " 0.9909151792526245,\n",
              " 0.9653641581535339,\n",
              " 0.9495924711227417]"
            ]
          },
          "metadata": {},
          "execution_count": 32
        }
      ]
    },
    {
      "cell_type": "markdown",
      "source": [
        "##3DDenseUnet (DenseNet201)"
      ],
      "metadata": {
        "id": "jvDDvRjzM_za"
      }
    },
    {
      "cell_type": "markdown",
      "source": [
        "### **Without** Transfer Learning"
      ],
      "metadata": {
        "id": "rZRfZIekM_zd"
      }
    },
    {
      "cell_type": "code",
      "source": [
        "model = load_model('/content/drive/MyDrive/3D Segmentation/Lungs model/densenet201unetlung75_notf.h5', custom_objects = {'dice_loss_plus_1focal_loss': total_loss, 'iou_score':sm.metrics.IOUScore(threshold=0.5), 'f1-score':sm.metrics.FScore(),'dice_loss':sm.losses.DiceLoss(),'focal_loss':sm.losses.CategoricalFocalLoss(),'jaccard_loss':sm.losses.JaccardLoss()})"
      ],
      "metadata": {
        "id": "MbV3CJOeM_zd"
      },
      "execution_count": null,
      "outputs": []
    },
    {
      "cell_type": "code",
      "source": [
        "#add more metrics\n",
        "metrics = [sm.metrics.IOUScore(threshold=0.5), sm.losses.DiceLoss(), sm.losses.JaccardLoss(),'accuracy',tf.keras.metrics.Precision(),tf.keras.metrics.Recall()]\n",
        "LR = 0.0001\n",
        "optim = tf.keras.optimizers.Adam(LR)\n",
        "model.compile(optimizer = optim, loss=total_loss, metrics=metrics)\n",
        "\n",
        "mevaluate = model.fit(train_img_datagen,\n",
        "                      steps_per_epoch=steps_per_epoch,\n",
        "                      epochs=1,\n",
        "                      validation_data=test_img_datagen,\n",
        "                      validation_steps=val_steps_per_epoch)"
      ],
      "metadata": {
        "colab": {
          "base_uri": "https://localhost:8080/"
        },
        "outputId": "147d4b76-06cc-4e62-8145-cf2e82c4abdb",
        "id": "MiUwIUQYFjY5"
      },
      "execution_count": null,
      "outputs": [
        {
          "output_type": "stream",
          "name": "stdout",
          "text": [
            "15/15 [==============================] - 40s 1s/step - loss: 4.4323e-04 - iou_score: 0.9994 - dice_loss: 4.3369e-04 - jaccard_loss: 8.6669e-04 - accuracy: 0.9999 - precision_5: 0.9995 - recall_5: 1.0000 - val_loss: 0.0572 - val_iou_score: 0.9170 - val_dice_loss: 0.0441 - val_jaccard_loss: 0.0840 - val_accuracy: 0.9912 - val_precision_5: 0.9762 - val_recall_5: 0.9415\n"
          ]
        }
      ]
    },
    {
      "cell_type": "code",
      "source": [
        "test = imageLoader(test_img_dir, test_img_list, \n",
        "                                test_mask_dir, test_mask_list, 5)\n",
        "\n",
        "imgtest, msktest = test.__next__()"
      ],
      "metadata": {
        "id": "BZ54VEKlFjY5"
      },
      "execution_count": null,
      "outputs": []
    },
    {
      "cell_type": "code",
      "source": [
        "model.evaluate(imgtest,msktest)"
      ],
      "metadata": {
        "colab": {
          "base_uri": "https://localhost:8080/"
        },
        "id": "W72tU9FoM_ze",
        "outputId": "f1ff6753-5c05-4599-8108-bacbc9b161ca"
      },
      "execution_count": null,
      "outputs": [
        {
          "output_type": "stream",
          "name": "stdout",
          "text": [
            "1/1 [==============================] - 6s 6s/step - loss: 0.0551 - iou_score: 0.9204 - dice_loss: 0.0420 - jaccard_loss: 0.0806 - accuracy: 0.9912 - precision_5: 0.9762 - recall_5: 0.9415\n"
          ]
        },
        {
          "output_type": "execute_result",
          "data": {
            "text/plain": [
              "[0.05506645515561104,\n",
              " 0.9203735589981079,\n",
              " 0.04198354482650757,\n",
              " 0.08058393001556396,\n",
              " 0.9912405014038086,\n",
              " 0.9762193560600281,\n",
              " 0.9414817690849304]"
            ]
          },
          "metadata": {},
          "execution_count": 36
        }
      ]
    },
    {
      "cell_type": "markdown",
      "source": [
        "### **With** Transfer Learning"
      ],
      "metadata": {
        "id": "HOzHeClhM_ze"
      }
    },
    {
      "cell_type": "code",
      "source": [
        "model = load_model('/content/drive/MyDrive/3D Segmentation/Lungs model/densenet201unetlung75_tf.h5', custom_objects = {'dice_loss_plus_1focal_loss': total_loss, 'iou_score':sm.metrics.IOUScore(threshold=0.5), 'f1-score':sm.metrics.FScore(),'dice_loss':sm.losses.DiceLoss(),'focal_loss':sm.losses.CategoricalFocalLoss(),'jaccard_loss':sm.losses.JaccardLoss()})"
      ],
      "metadata": {
        "id": "uWNmmZ6IM_ze"
      },
      "execution_count": null,
      "outputs": []
    },
    {
      "cell_type": "code",
      "source": [
        "#add more metrics\n",
        "metrics = [sm.metrics.IOUScore(threshold=0.5), sm.losses.DiceLoss(), sm.losses.JaccardLoss(),'accuracy',tf.keras.metrics.Precision(),tf.keras.metrics.Recall()]\n",
        "LR = 0.0001\n",
        "optim = tf.keras.optimizers.Adam(LR)\n",
        "model.compile(optimizer = optim, loss=total_loss, metrics=metrics)\n",
        "\n",
        "mevaluate = model.fit(train_img_datagen,\n",
        "                      steps_per_epoch=steps_per_epoch,\n",
        "                      epochs=1,\n",
        "                      validation_data=test_img_datagen,\n",
        "                      validation_steps=val_steps_per_epoch)"
      ],
      "metadata": {
        "colab": {
          "base_uri": "https://localhost:8080/"
        },
        "outputId": "eaaa939e-5cfe-4007-d8de-adb6226ab134",
        "id": "MW_FIg5SFlgO"
      },
      "execution_count": null,
      "outputs": [
        {
          "output_type": "stream",
          "name": "stdout",
          "text": [
            "15/15 [==============================] - 39s 1s/step - loss: 0.0024 - iou_score: 0.9970 - dice_loss: 0.0024 - jaccard_loss: 0.0047 - accuracy: 0.9997 - precision_6: 0.9982 - recall_6: 0.9989 - val_loss: 0.0511 - val_iou_score: 0.9242 - val_dice_loss: 0.0402 - val_jaccard_loss: 0.0769 - val_accuracy: 0.9919 - val_precision_6: 0.9764 - val_recall_6: 0.9472\n"
          ]
        }
      ]
    },
    {
      "cell_type": "code",
      "source": [
        "test = imageLoader(test_img_dir, test_img_list, \n",
        "                                test_mask_dir, test_mask_list, 5)\n",
        "\n",
        "imgtest, msktest = test.__next__()"
      ],
      "metadata": {
        "id": "yQZ8biMYFlgP"
      },
      "execution_count": null,
      "outputs": []
    },
    {
      "cell_type": "code",
      "source": [
        "model.evaluate(imgtest,msktest)"
      ],
      "metadata": {
        "colab": {
          "base_uri": "https://localhost:8080/"
        },
        "id": "gVdaTap4M_zf",
        "outputId": "88ef1604-1ba4-46b2-b72c-94a7f0f30a2a"
      },
      "execution_count": null,
      "outputs": [
        {
          "output_type": "stream",
          "name": "stdout",
          "text": [
            "1/1 [==============================] - 4s 4s/step - loss: 0.0500 - iou_score: 0.9260 - dice_loss: 0.0390 - jaccard_loss: 0.0751 - accuracy: 0.9919 - precision_6: 0.9764 - recall_6: 0.9472\n"
          ]
        },
        {
          "output_type": "execute_result",
          "data": {
            "text/plain": [
              "[0.04998437315225601,\n",
              " 0.9259830117225647,\n",
              " 0.039022743701934814,\n",
              " 0.07511430978775024,\n",
              " 0.991857647895813,\n",
              " 0.9763652682304382,\n",
              " 0.9472149610519409]"
            ]
          },
          "metadata": {},
          "execution_count": 40
        }
      ]
    },
    {
      "cell_type": "markdown",
      "source": [
        "#Lungs and Infections Models"
      ],
      "metadata": {
        "id": "ts0bOQ-aNWco"
      }
    },
    {
      "cell_type": "markdown",
      "source": [
        "##Load Test Data for Lungs and Infections Evaluation"
      ],
      "metadata": {
        "id": "-tB0drrepX1K"
      }
    },
    {
      "cell_type": "code",
      "source": [
        "train_img_dir = '/content/drive/MyDrive/3D Segmentation/splitted 75 lim 128 data/train/ctscan/'\n",
        "train_mask_dir = '/content/drive/MyDrive/3D Segmentation/splitted 75 lim 128 data/train/lim/'\n",
        "\n",
        "train_img_list= sorted_alphanumeric(os.listdir(train_img_dir))\n",
        "train_mask_list = sorted_alphanumeric(os.listdir(train_mask_dir))"
      ],
      "metadata": {
        "id": "r2gxk2JBG3ly"
      },
      "execution_count": null,
      "outputs": []
    },
    {
      "cell_type": "code",
      "source": [
        "batch_size = 1\n",
        "\n",
        "train_img_datagen = imageLoader(train_img_dir, train_img_list, \n",
        "                                train_mask_dir, train_mask_list, batch_size)"
      ],
      "metadata": {
        "id": "TF1anRxSG3lz"
      },
      "execution_count": null,
      "outputs": []
    },
    {
      "cell_type": "code",
      "source": [
        "test_img_dir = \"/content/drive/MyDrive/3D Segmentation/splitted 75 lim 128 data/val/ctscan/\"\n",
        "test_mask_dir = \"/content/drive/MyDrive/3D Segmentation/splitted 75 lim 128 data/val/lim/\"\n",
        "\n",
        "test_img_list= sorted_alphanumeric(os.listdir(test_img_dir))\n",
        "test_mask_list = sorted_alphanumeric(os.listdir(test_mask_dir))"
      ],
      "metadata": {
        "id": "dAxaLpPAOcky"
      },
      "execution_count": null,
      "outputs": []
    },
    {
      "cell_type": "code",
      "source": [
        "batch_size = 1\n",
        "\n",
        "test_img_datagen = imageLoader(test_img_dir, test_img_list, \n",
        "                                test_mask_dir, test_mask_list, batch_size)"
      ],
      "metadata": {
        "id": "GDCTSJrFOcky"
      },
      "execution_count": null,
      "outputs": []
    },
    {
      "cell_type": "code",
      "source": [
        "imgtest, msktest = test_img_datagen.__next__()"
      ],
      "metadata": {
        "id": "pNqUUIyAOckz"
      },
      "execution_count": null,
      "outputs": []
    },
    {
      "cell_type": "markdown",
      "source": [
        "##Pure 3DUNET"
      ],
      "metadata": {
        "id": "qX9LmEZCNWcr"
      }
    },
    {
      "cell_type": "code",
      "source": [
        "model = load_model('/content/drive/MyDrive/3D Segmentation/lim model/pureunetlim75.h5', custom_objects = {'dice_loss_plus_1focal_loss': total_loss, 'iou_score':sm.metrics.IOUScore(threshold=0.5), 'f1-score':sm.metrics.FScore(),'dice_loss':sm.losses.DiceLoss(),'focal_loss':sm.losses.CategoricalFocalLoss(),'jaccard_loss':sm.losses.JaccardLoss()})"
      ],
      "metadata": {
        "id": "Bi35XCBzNWcs"
      },
      "execution_count": null,
      "outputs": []
    },
    {
      "cell_type": "code",
      "source": [
        "#add more metrics\n",
        "metrics = [sm.metrics.IOUScore(threshold=0.5), sm.losses.DiceLoss(), sm.losses.JaccardLoss(),'accuracy',tf.keras.metrics.Precision(),tf.keras.metrics.Recall()]\n",
        "LR = 0.0001\n",
        "optim = tf.keras.optimizers.Adam(LR)\n",
        "model.compile(optimizer = optim, loss=total_loss, metrics=metrics)\n",
        "\n",
        "mevaluate = model.fit(train_img_datagen,\n",
        "                      steps_per_epoch=steps_per_epoch,\n",
        "                      epochs=1,\n",
        "                      validation_data=test_img_datagen,\n",
        "                      validation_steps=val_steps_per_epoch)"
      ],
      "metadata": {
        "colab": {
          "base_uri": "https://localhost:8080/"
        },
        "outputId": "d49e5778-b396-44e1-816c-5e7bc108e84a",
        "id": "PixqAlI-HXtr"
      },
      "execution_count": null,
      "outputs": [
        {
          "output_type": "stream",
          "name": "stdout",
          "text": [
            "15/15 [==============================] - 11s 617ms/step - loss: 0.0807 - iou_score: 0.8808 - dice_loss: 0.0780 - jaccard_loss: 0.1208 - accuracy: 0.9937 - precision_9: 0.9937 - recall_9: 0.9937 - val_loss: 0.1245 - val_iou_score: 0.8179 - val_dice_loss: 0.1172 - val_jaccard_loss: 0.1835 - val_accuracy: 0.9878 - val_precision_9: 0.9878 - val_recall_9: 0.9878\n"
          ]
        }
      ]
    },
    {
      "cell_type": "code",
      "source": [
        "test = imageLoader(test_img_dir, test_img_list, \n",
        "                                test_mask_dir, test_mask_list, 5)\n",
        "\n",
        "imgtest, msktest = test.__next__()"
      ],
      "metadata": {
        "id": "sAbgJOAzHXtr"
      },
      "execution_count": null,
      "outputs": []
    },
    {
      "cell_type": "code",
      "source": [
        "model.evaluate(imgtest,msktest)"
      ],
      "metadata": {
        "colab": {
          "base_uri": "https://localhost:8080/"
        },
        "outputId": "b0fc36b9-d64b-483e-cb71-df5d196a7692",
        "id": "b7CqYer3NWcs"
      },
      "execution_count": null,
      "outputs": [
        {
          "output_type": "stream",
          "name": "stdout",
          "text": [
            "1/1 [==============================] - 1s 1s/step - loss: 0.1212 - iou_score: 0.8158 - dice_loss: 0.1139 - jaccard_loss: 0.1855 - accuracy: 0.9878 - precision_9: 0.9878 - recall_9: 0.9878\n"
          ]
        },
        {
          "output_type": "execute_result",
          "data": {
            "text/plain": [
              "[0.12115620076656342,\n",
              " 0.8158137202262878,\n",
              " 0.11389273405075073,\n",
              " 0.18554049730300903,\n",
              " 0.9877713918685913,\n",
              " 0.9877756834030151,\n",
              " 0.9877675175666809]"
            ]
          },
          "metadata": {},
          "execution_count": 56
        }
      ]
    },
    {
      "cell_type": "markdown",
      "source": [
        "##3DVGGUNET (VGG19)"
      ],
      "metadata": {
        "id": "hmutLWXgNWct"
      }
    },
    {
      "cell_type": "markdown",
      "source": [
        "### **Without** Transfer Learning"
      ],
      "metadata": {
        "id": "2HCUjSM4NWct"
      }
    },
    {
      "cell_type": "code",
      "source": [
        "model = load_model('/content/drive/MyDrive/3D Segmentation/lim model/vggnew/vgg19unetlim75_notf.h5', custom_objects = {'dice_loss_plus_1focal_loss': total_loss, 'iou_score':sm.metrics.IOUScore(threshold=0.5), 'f1-score':sm.metrics.FScore(),'dice_loss':sm.losses.DiceLoss(),'focal_loss':sm.losses.CategoricalFocalLoss(),'jaccard_loss':sm.losses.JaccardLoss()})"
      ],
      "metadata": {
        "id": "k2oVAkrzNWct"
      },
      "execution_count": null,
      "outputs": []
    },
    {
      "cell_type": "code",
      "source": [
        "#add more metrics\n",
        "metrics = [sm.metrics.IOUScore(threshold=0.5), sm.losses.DiceLoss(), sm.losses.JaccardLoss(),'accuracy',tf.keras.metrics.Precision(),tf.keras.metrics.Recall()]\n",
        "LR = 0.0001\n",
        "optim = tf.keras.optimizers.Adam(LR)\n",
        "model.compile(optimizer = optim, loss=total_loss, metrics=metrics)\n",
        "\n",
        "mevaluate = model.fit(train_img_datagen,\n",
        "                      steps_per_epoch=steps_per_epoch,\n",
        "                      epochs=1,\n",
        "                      validation_data=test_img_datagen,\n",
        "                      validation_steps=val_steps_per_epoch)"
      ],
      "metadata": {
        "colab": {
          "base_uri": "https://localhost:8080/"
        },
        "outputId": "e428a63b-7762-472c-a350-031a4b7d696e",
        "id": "FBpV8jXGH1i3"
      },
      "execution_count": null,
      "outputs": [
        {
          "output_type": "stream",
          "name": "stdout",
          "text": [
            "15/15 [==============================] - 33s 2s/step - loss: 0.0634 - iou_score: 0.9090 - dice_loss: 0.0619 - jaccard_loss: 0.0956 - accuracy: 0.9947 - precision_10: 0.9947 - recall_10: 0.9947 - val_loss: 0.1853 - val_iou_score: 0.7495 - val_dice_loss: 0.1755 - val_jaccard_loss: 0.2527 - val_accuracy: 0.9839 - val_precision_10: 0.9839 - val_recall_10: 0.9838\n"
          ]
        }
      ]
    },
    {
      "cell_type": "code",
      "source": [
        "test = imageLoader(test_img_dir, test_img_list, \n",
        "                                test_mask_dir, test_mask_list, 5)\n",
        "\n",
        "imgtest, msktest = test.__next__()"
      ],
      "metadata": {
        "id": "9Svq7knSH1i3"
      },
      "execution_count": null,
      "outputs": []
    },
    {
      "cell_type": "code",
      "source": [
        "model.evaluate(imgtest,msktest)"
      ],
      "metadata": {
        "colab": {
          "base_uri": "https://localhost:8080/"
        },
        "outputId": "5f3e914e-7be2-426e-c9e2-e24085f3e894",
        "id": "KxsheKNPNWcu"
      },
      "execution_count": null,
      "outputs": [
        {
          "output_type": "stream",
          "name": "stdout",
          "text": [
            "1/1 [==============================] - 3s 3s/step - loss: 0.2049 - iou_score: 0.7276 - dice_loss: 0.1951 - jaccard_loss: 0.2739 - accuracy: 0.9839 - precision_10: 0.9839 - recall_10: 0.9838\n"
          ]
        },
        {
          "output_type": "execute_result",
          "data": {
            "text/plain": [
              "[0.20491833984851837,\n",
              " 0.7276301980018616,\n",
              " 0.19508790969848633,\n",
              " 0.2739112377166748,\n",
              " 0.983858585357666,\n",
              " 0.9838941097259521,\n",
              " 0.9838374853134155]"
            ]
          },
          "metadata": {},
          "execution_count": 61
        }
      ]
    },
    {
      "cell_type": "markdown",
      "source": [
        "### **With** Transfer Learning"
      ],
      "metadata": {
        "id": "C5gtdqZ6NWcu"
      }
    },
    {
      "cell_type": "code",
      "source": [
        "model = load_model('/content/drive/MyDrive/3D Segmentation/lim model/vggnew/vgg19unetlim75_tf.h5', custom_objects = {'dice_loss_plus_1focal_loss': total_loss, 'iou_score':sm.metrics.IOUScore(threshold=0.5), 'f1-score':sm.metrics.FScore(),'dice_loss':sm.losses.DiceLoss(),'focal_loss':sm.losses.CategoricalFocalLoss(),'jaccard_loss':sm.losses.JaccardLoss()})"
      ],
      "metadata": {
        "id": "Ciu3fMNTNWcv"
      },
      "execution_count": null,
      "outputs": []
    },
    {
      "cell_type": "code",
      "source": [
        "#add more metrics\n",
        "metrics = [sm.metrics.IOUScore(threshold=0.5), sm.losses.DiceLoss(), sm.losses.JaccardLoss(),'accuracy',tf.keras.metrics.Precision(),tf.keras.metrics.Recall()]\n",
        "LR = 0.0001\n",
        "optim = tf.keras.optimizers.Adam(LR)\n",
        "model.compile(optimizer = optim, loss=total_loss, metrics=metrics)\n",
        "\n",
        "mevaluate = model.fit(train_img_datagen,\n",
        "                      steps_per_epoch=steps_per_epoch,\n",
        "                      epochs=1,\n",
        "                      validation_data=test_img_datagen,\n",
        "                      validation_steps=val_steps_per_epoch)"
      ],
      "metadata": {
        "colab": {
          "base_uri": "https://localhost:8080/"
        },
        "outputId": "b4ca518c-bbe0-45e2-f702-f7c520f96ffe",
        "id": "sjx7DkxcIDsl"
      },
      "execution_count": null,
      "outputs": [
        {
          "output_type": "stream",
          "name": "stdout",
          "text": [
            "15/15 [==============================] - 30s 2s/step - loss: 0.0388 - iou_score: 0.9506 - dice_loss: 0.0379 - jaccard_loss: 0.0526 - accuracy: 0.9971 - precision_11: 0.9971 - recall_11: 0.9971 - val_loss: 0.1741 - val_iou_score: 0.7608 - val_dice_loss: 0.1640 - val_jaccard_loss: 0.2419 - val_accuracy: 0.9840 - val_precision_11: 0.9840 - val_recall_11: 0.9839\n"
          ]
        }
      ]
    },
    {
      "cell_type": "code",
      "source": [
        "test = imageLoader(test_img_dir, test_img_list, \n",
        "                                test_mask_dir, test_mask_list, 5)\n",
        "\n",
        "imgtest, msktest = test.__next__()"
      ],
      "metadata": {
        "id": "-UtTvVSvIDsn"
      },
      "execution_count": null,
      "outputs": []
    },
    {
      "cell_type": "code",
      "source": [
        "model.evaluate(imgtest,msktest)"
      ],
      "metadata": {
        "colab": {
          "base_uri": "https://localhost:8080/"
        },
        "outputId": "9405d544-ee66-4868-f49b-a6da0d79c7e9",
        "id": "ISQ_u_qQNWcv"
      },
      "execution_count": null,
      "outputs": [
        {
          "output_type": "stream",
          "name": "stdout",
          "text": [
            "1/1 [==============================] - 3s 3s/step - loss: 0.1979 - iou_score: 0.7340 - dice_loss: 0.1878 - jaccard_loss: 0.2676 - accuracy: 0.9840 - precision_11: 0.9840 - recall_11: 0.9839\n"
          ]
        },
        {
          "output_type": "execute_result",
          "data": {
            "text/plain": [
              "[0.19785478711128235,\n",
              " 0.7340170741081238,\n",
              " 0.1877616047859192,\n",
              " 0.2675795555114746,\n",
              " 0.9839593172073364,\n",
              " 0.9839940667152405,\n",
              " 0.9839392900466919]"
            ]
          },
          "metadata": {},
          "execution_count": 65
        }
      ]
    },
    {
      "cell_type": "markdown",
      "source": [
        "##3DRESUNET (ResNet152)"
      ],
      "metadata": {
        "id": "uTY8nDQ9NWcv"
      }
    },
    {
      "cell_type": "markdown",
      "source": [
        "### **Without** Transfer Learning"
      ],
      "metadata": {
        "id": "CnP9VH7DNWcv"
      }
    },
    {
      "cell_type": "code",
      "source": [
        "model = load_model('/content/drive/MyDrive/3D Segmentation/lim model/resnet15unetlim75_notf.h5', custom_objects = {'dice_loss_plus_1focal_loss': total_loss, 'iou_score':sm.metrics.IOUScore(threshold=0.5), 'f1-score':sm.metrics.FScore(),'dice_loss':sm.losses.DiceLoss(),'focal_loss':sm.losses.CategoricalFocalLoss(),'jaccard_loss':sm.losses.JaccardLoss()})"
      ],
      "metadata": {
        "id": "Pm4RZATpNWcw"
      },
      "execution_count": null,
      "outputs": []
    },
    {
      "cell_type": "code",
      "source": [
        "#add more metrics\n",
        "metrics = [sm.metrics.IOUScore(threshold=0.5), sm.losses.DiceLoss(), sm.losses.JaccardLoss(),'accuracy',tf.keras.metrics.Precision(),tf.keras.metrics.Recall()]\n",
        "LR = 0.0001\n",
        "optim = tf.keras.optimizers.Adam(LR)\n",
        "model.compile(optimizer = optim, loss=total_loss, metrics=metrics)\n",
        "\n",
        "mevaluate = model.fit(train_img_datagen,\n",
        "                      steps_per_epoch=steps_per_epoch,\n",
        "                      epochs=1,\n",
        "                      validation_data=test_img_datagen,\n",
        "                      validation_steps=val_steps_per_epoch)"
      ],
      "metadata": {
        "colab": {
          "base_uri": "https://localhost:8080/"
        },
        "outputId": "69fa38e6-d4b1-4b27-9d81-ab2c2ae00661",
        "id": "aGhyPPS_IS0_"
      },
      "execution_count": null,
      "outputs": [
        {
          "output_type": "stream",
          "name": "stdout",
          "text": [
            "15/15 [==============================] - 46s 1s/step - loss: 0.0471 - iou_score: 0.9364 - dice_loss: 0.0460 - jaccard_loss: 0.0676 - accuracy: 0.9965 - precision_2: 0.9965 - recall_2: 0.9965 - val_loss: 0.2023 - val_iou_score: 0.7348 - val_dice_loss: 0.1911 - val_jaccard_loss: 0.2678 - val_accuracy: 0.9833 - val_precision_2: 0.9833 - val_recall_2: 0.9833\n"
          ]
        }
      ]
    },
    {
      "cell_type": "code",
      "source": [
        "test = imageLoader(test_img_dir, test_img_list, \n",
        "                                test_mask_dir, test_mask_list, 5)\n",
        "\n",
        "imgtest, msktest = test.__next__()"
      ],
      "metadata": {
        "id": "ZkFQNwIJIS1A"
      },
      "execution_count": null,
      "outputs": []
    },
    {
      "cell_type": "code",
      "source": [
        "model.evaluate(imgtest,msktest)"
      ],
      "metadata": {
        "id": "ajq6zHJONWcw",
        "colab": {
          "base_uri": "https://localhost:8080/"
        },
        "outputId": "781849df-6f61-4323-97da-4be252464680"
      },
      "execution_count": null,
      "outputs": [
        {
          "output_type": "stream",
          "name": "stdout",
          "text": [
            "1/1 [==============================] - 6s 6s/step - loss: 0.2273 - iou_score: 0.7089 - dice_loss: 0.2161 - jaccard_loss: 0.2924 - accuracy: 0.9833 - precision_2: 0.9833 - recall_2: 0.9833\n"
          ]
        },
        {
          "output_type": "execute_result",
          "data": {
            "text/plain": [
              "[0.22728726267814636,\n",
              " 0.7088800072669983,\n",
              " 0.2161272168159485,\n",
              " 0.292374849319458,\n",
              " 0.9833076596260071,\n",
              " 0.9833407998085022,\n",
              " 0.9832866787910461]"
            ]
          },
          "metadata": {},
          "execution_count": 22
        }
      ]
    },
    {
      "cell_type": "markdown",
      "source": [
        "### **With** Transfer Learning"
      ],
      "metadata": {
        "id": "BifiDw7rNWcw"
      }
    },
    {
      "cell_type": "code",
      "source": [
        "model = load_model('/content/drive/MyDrive/3D Segmentation/lim model/resnet15unetlim75_tf.h5', custom_objects = {'dice_loss_plus_1focal_loss': total_loss, 'iou_score':sm.metrics.IOUScore(threshold=0.5), 'f1-score':sm.metrics.FScore(),'dice_loss':sm.losses.DiceLoss(),'focal_loss':sm.losses.CategoricalFocalLoss(),'jaccard_loss':sm.losses.JaccardLoss()})"
      ],
      "metadata": {
        "id": "AVhpdULWNWcw"
      },
      "execution_count": null,
      "outputs": []
    },
    {
      "cell_type": "code",
      "source": [
        "#add more metrics\n",
        "metrics = [sm.metrics.IOUScore(threshold=0.5), sm.losses.DiceLoss(), sm.losses.JaccardLoss(),'accuracy',tf.keras.metrics.Precision(),tf.keras.metrics.Recall()]\n",
        "LR = 0.0001\n",
        "optim = tf.keras.optimizers.Adam(LR)\n",
        "model.compile(optimizer = optim, loss=total_loss, metrics=metrics)\n",
        "\n",
        "mevaluate = model.fit(train_img_datagen,\n",
        "                      steps_per_epoch=steps_per_epoch,\n",
        "                      epochs=1,\n",
        "                      validation_data=test_img_datagen,\n",
        "                      validation_steps=val_steps_per_epoch)"
      ],
      "metadata": {
        "colab": {
          "base_uri": "https://localhost:8080/"
        },
        "outputId": "80a6aabe-bf88-4a75-943c-c33123c00892",
        "id": "gVAaN36AKKDz"
      },
      "execution_count": null,
      "outputs": [
        {
          "output_type": "stream",
          "name": "stdout",
          "text": [
            "15/15 [==============================] - 36s 1s/step - loss: 0.0431 - iou_score: 0.9436 - dice_loss: 0.0423 - jaccard_loss: 0.0607 - accuracy: 0.9969 - precision_3: 0.9970 - recall_3: 0.9969 - val_loss: 0.1841 - val_iou_score: 0.7498 - val_dice_loss: 0.1729 - val_jaccard_loss: 0.2524 - val_accuracy: 0.9832 - val_precision_3: 0.9832 - val_recall_3: 0.9831\n"
          ]
        }
      ]
    },
    {
      "cell_type": "code",
      "source": [
        "test = imageLoader(test_img_dir, test_img_list, \n",
        "                                test_mask_dir, test_mask_list, 5)\n",
        "\n",
        "imgtest, msktest = test.__next__()"
      ],
      "metadata": {
        "id": "uJNWc3KiKKDz"
      },
      "execution_count": null,
      "outputs": []
    },
    {
      "cell_type": "code",
      "source": [
        "model.evaluate(imgtest,msktest)"
      ],
      "metadata": {
        "id": "2L5IS11UNWcw",
        "colab": {
          "base_uri": "https://localhost:8080/"
        },
        "outputId": "3942022c-744f-47a5-ce5d-8b25b2cf7bb1"
      },
      "execution_count": null,
      "outputs": [
        {
          "output_type": "stream",
          "name": "stdout",
          "text": [
            "WARNING:tensorflow:5 out of the last 13 calls to <function Model.make_test_function.<locals>.test_function at 0x7f8f62267d40> triggered tf.function retracing. Tracing is expensive and the excessive number of tracings could be due to (1) creating @tf.function repeatedly in a loop, (2) passing tensors with different shapes, (3) passing Python objects instead of tensors. For (1), please define your @tf.function outside of the loop. For (2), @tf.function has experimental_relax_shapes=True option that relaxes argument shapes that can avoid unnecessary retracing. For (3), please refer to https://www.tensorflow.org/guide/function#controlling_retracing and https://www.tensorflow.org/api_docs/python/tf/function for  more details.\n"
          ]
        },
        {
          "output_type": "stream",
          "name": "stderr",
          "text": [
            "WARNING:tensorflow:5 out of the last 13 calls to <function Model.make_test_function.<locals>.test_function at 0x7f8f62267d40> triggered tf.function retracing. Tracing is expensive and the excessive number of tracings could be due to (1) creating @tf.function repeatedly in a loop, (2) passing tensors with different shapes, (3) passing Python objects instead of tensors. For (1), please define your @tf.function outside of the loop. For (2), @tf.function has experimental_relax_shapes=True option that relaxes argument shapes that can avoid unnecessary retracing. For (3), please refer to https://www.tensorflow.org/guide/function#controlling_retracing and https://www.tensorflow.org/api_docs/python/tf/function for  more details.\n"
          ]
        },
        {
          "output_type": "stream",
          "name": "stdout",
          "text": [
            "1/1 [==============================] - 4s 4s/step - loss: 0.1935 - iou_score: 0.7381 - dice_loss: 0.1822 - jaccard_loss: 0.2637 - accuracy: 0.9832 - precision_3: 0.9832 - recall_3: 0.9831\n"
          ]
        },
        {
          "output_type": "execute_result",
          "data": {
            "text/plain": [
              "[0.19345742464065552,\n",
              " 0.738065242767334,\n",
              " 0.18223971128463745,\n",
              " 0.26374274492263794,\n",
              " 0.9831730723381042,\n",
              " 0.983208954334259,\n",
              " 0.9831493496894836]"
            ]
          },
          "metadata": {},
          "execution_count": 27
        }
      ]
    },
    {
      "cell_type": "markdown",
      "source": [
        "##3DDenseUNET (DenseNet201)"
      ],
      "metadata": {
        "id": "dN5DkZXCNWcw"
      }
    },
    {
      "cell_type": "markdown",
      "source": [
        "### **Without** Transfer Learning"
      ],
      "metadata": {
        "id": "_6eC4LbLNWcw"
      }
    },
    {
      "cell_type": "code",
      "source": [
        "model = load_model('/content/drive/MyDrive/3D Segmentation/lim model/densenet201unetlim75_notf.h5', custom_objects = {'dice_loss_plus_1focal_loss': total_loss, 'iou_score':sm.metrics.IOUScore(threshold=0.5), 'f1-score':sm.metrics.FScore(),'dice_loss':sm.losses.DiceLoss(),'focal_loss':sm.losses.CategoricalFocalLoss(),'jaccard_loss':sm.losses.JaccardLoss()})"
      ],
      "metadata": {
        "id": "vqu3siHANWcw"
      },
      "execution_count": null,
      "outputs": []
    },
    {
      "cell_type": "code",
      "source": [
        "#add more metrics\n",
        "metrics = [sm.metrics.IOUScore(threshold=0.5), sm.losses.DiceLoss(), sm.losses.JaccardLoss(),'accuracy',tf.keras.metrics.Precision(),tf.keras.metrics.Recall()]\n",
        "LR = 0.0001\n",
        "optim = tf.keras.optimizers.Adam(LR)\n",
        "model.compile(optimizer = optim, loss=total_loss, metrics=metrics)\n",
        "\n",
        "mevaluate = model.fit(train_img_datagen,\n",
        "                      steps_per_epoch=steps_per_epoch,\n",
        "                      epochs=1,\n",
        "                      validation_data=test_img_datagen,\n",
        "                      validation_steps=val_steps_per_epoch)"
      ],
      "metadata": {
        "colab": {
          "base_uri": "https://localhost:8080/"
        },
        "outputId": "e3f6566d-ff49-4a23-9e99-97bd978bf55c",
        "id": "c-FiIoAuKbj1"
      },
      "execution_count": null,
      "outputs": [
        {
          "output_type": "stream",
          "name": "stdout",
          "text": [
            "15/15 [==============================] - ETA: 0s - loss: 0.0506 - iou_score: 0.9312 - dice_loss: 0.0495 - jaccard_loss: 0.0738 - accuracy: 0.9962 - precision_4: 0.9962 - recall_4: 0.9962WARNING:tensorflow:6 out of the last 14 calls to <function Model.make_test_function.<locals>.test_function at 0x7f931fcc6d40> triggered tf.function retracing. Tracing is expensive and the excessive number of tracings could be due to (1) creating @tf.function repeatedly in a loop, (2) passing tensors with different shapes, (3) passing Python objects instead of tensors. For (1), please define your @tf.function outside of the loop. For (2), @tf.function has experimental_relax_shapes=True option that relaxes argument shapes that can avoid unnecessary retracing. For (3), please refer to https://www.tensorflow.org/guide/function#controlling_retracing and https://www.tensorflow.org/api_docs/python/tf/function for  more details.\n"
          ]
        },
        {
          "output_type": "stream",
          "name": "stderr",
          "text": [
            "WARNING:tensorflow:6 out of the last 14 calls to <function Model.make_test_function.<locals>.test_function at 0x7f931fcc6d40> triggered tf.function retracing. Tracing is expensive and the excessive number of tracings could be due to (1) creating @tf.function repeatedly in a loop, (2) passing tensors with different shapes, (3) passing Python objects instead of tensors. For (1), please define your @tf.function outside of the loop. For (2), @tf.function has experimental_relax_shapes=True option that relaxes argument shapes that can avoid unnecessary retracing. For (3), please refer to https://www.tensorflow.org/guide/function#controlling_retracing and https://www.tensorflow.org/api_docs/python/tf/function for  more details.\n"
          ]
        },
        {
          "output_type": "stream",
          "name": "stdout",
          "text": [
            "\b\b\b\b\b\b\b\b\b\b\b\b\b\b\b\b\b\b\b\b\b\b\b\b\b\b\b\b\b\b\b\b\b\b\b\b\b\b\b\b\b\b\b\b\b\b\b\b\b\b\b\b\b\b\b\b\b\b\b\b\b\b\b\b\b\b\b\b\b\b\b\b\b\b\b\b\b\b\b\b\b\b\b\b\b\b\b\b\b\b\b\b\b\b\b\b\b\b\b\b\b\b\b\b\b\b\b\b\b\b\b\b\b\b\b\b\b\b\b\b\b\b\b\b\b\b\b\b\b\b\b\b\b\b\b\b\b\b\b\b\b\b\b\b\b\b\b\b\b\b\b\b\b\b\b\b\b\b\b\b\b\b\b\b\b\b\b\b\b\b\b\b\b\b\b\b\b\b\b\b\b\b\b\b\b\b\r15/15 [==============================] - 42s 1s/step - loss: 0.0506 - iou_score: 0.9312 - dice_loss: 0.0495 - jaccard_loss: 0.0738 - accuracy: 0.9962 - precision_4: 0.9962 - recall_4: 0.9962 - val_loss: 0.2100 - val_iou_score: 0.7260 - val_dice_loss: 0.1988 - val_jaccard_loss: 0.2765 - val_accuracy: 0.9825 - val_precision_4: 0.9826 - val_recall_4: 0.9825\n"
          ]
        }
      ]
    },
    {
      "cell_type": "code",
      "source": [
        "test = imageLoader(test_img_dir, test_img_list, \n",
        "                                test_mask_dir, test_mask_list, 5)\n",
        "\n",
        "imgtest, msktest = test.__next__()"
      ],
      "metadata": {
        "id": "Y-8C5ZJ9Kbj2"
      },
      "execution_count": null,
      "outputs": []
    },
    {
      "cell_type": "code",
      "source": [
        "model.evaluate(imgtest,msktest)"
      ],
      "metadata": {
        "id": "J3sWkLNgNWcw",
        "colab": {
          "base_uri": "https://localhost:8080/"
        },
        "outputId": "35945c03-22e6-4f96-b232-7abc70b39666"
      },
      "execution_count": null,
      "outputs": [
        {
          "output_type": "stream",
          "name": "stdout",
          "text": [
            "1/1 [==============================] - 5s 5s/step - loss: 0.2196 - iou_score: 0.7143 - dice_loss: 0.2084 - jaccard_loss: 0.2875 - accuracy: 0.9825 - precision_4: 0.9826 - recall_4: 0.9825\n"
          ]
        },
        {
          "output_type": "execute_result",
          "data": {
            "text/plain": [
              "[0.219605952501297,\n",
              " 0.7143351435661316,\n",
              " 0.2084028124809265,\n",
              " 0.2874996066093445,\n",
              " 0.9825249910354614,\n",
              " 0.9825748205184937,\n",
              " 0.982498049736023]"
            ]
          },
          "metadata": {},
          "execution_count": 31
        }
      ]
    },
    {
      "cell_type": "markdown",
      "source": [
        "### **With** Transfer Learning"
      ],
      "metadata": {
        "id": "meG5OZ19NWcx"
      }
    },
    {
      "cell_type": "code",
      "source": [
        "model = load_model('/content/drive/MyDrive/3D Segmentation/lim model/densenet201unetlim75_tf.h5', custom_objects = {'dice_loss_plus_1focal_loss': total_loss, 'iou_score':sm.metrics.IOUScore(threshold=0.5), 'f1-score':sm.metrics.FScore(),'dice_loss':sm.losses.DiceLoss(),'focal_loss':sm.losses.CategoricalFocalLoss(),'jaccard_loss':sm.losses.JaccardLoss()})"
      ],
      "metadata": {
        "id": "oGiO7izvNWcx"
      },
      "execution_count": null,
      "outputs": []
    },
    {
      "cell_type": "code",
      "source": [
        "#add more metrics\n",
        "metrics = [sm.metrics.IOUScore(threshold=0.5), sm.losses.DiceLoss(), sm.losses.JaccardLoss(),'accuracy',tf.keras.metrics.Precision(),tf.keras.metrics.Recall()]\n",
        "LR = 0.0001\n",
        "optim = tf.keras.optimizers.Adam(LR)\n",
        "model.compile(optimizer = optim, loss=total_loss, metrics=metrics)\n",
        "\n",
        "mevaluate = model.fit(train_img_datagen,\n",
        "                      steps_per_epoch=steps_per_epoch,\n",
        "                      epochs=1,\n",
        "                      validation_data=test_img_datagen,\n",
        "                      validation_steps=val_steps_per_epoch)"
      ],
      "metadata": {
        "colab": {
          "base_uri": "https://localhost:8080/"
        },
        "outputId": "7981b63a-0fa3-47d7-9a66-e0d99ecaa448",
        "id": "PebykgfQKdPZ"
      },
      "execution_count": null,
      "outputs": [
        {
          "output_type": "stream",
          "name": "stdout",
          "text": [
            "15/15 [==============================] - 40s 1s/step - loss: 0.0521 - iou_score: 0.9281 - dice_loss: 0.0508 - jaccard_loss: 0.0762 - accuracy: 0.9956 - precision_5: 0.9956 - recall_5: 0.9956 - val_loss: 0.1839 - val_iou_score: 0.7522 - val_dice_loss: 0.1722 - val_jaccard_loss: 0.2495 - val_accuracy: 0.9835 - val_precision_5: 0.9836 - val_recall_5: 0.9835\n"
          ]
        }
      ]
    },
    {
      "cell_type": "code",
      "source": [
        "test = imageLoader(test_img_dir, test_img_list, \n",
        "                                test_mask_dir, test_mask_list, 5)\n",
        "\n",
        "imgtest, msktest = test.__next__()"
      ],
      "metadata": {
        "id": "3QUMb51dKdPa"
      },
      "execution_count": null,
      "outputs": []
    },
    {
      "cell_type": "code",
      "source": [
        "model.evaluate(imgtest,msktest)"
      ],
      "metadata": {
        "id": "zG4JjgQjNWcx",
        "colab": {
          "base_uri": "https://localhost:8080/"
        },
        "outputId": "b67c3e4a-60ce-48eb-b60a-4b14cb7ac09d"
      },
      "execution_count": null,
      "outputs": [
        {
          "output_type": "stream",
          "name": "stdout",
          "text": [
            "1/1 [==============================] - 6s 6s/step - loss: 0.2157 - iou_score: 0.7193 - dice_loss: 0.2040 - jaccard_loss: 0.2818 - accuracy: 0.9835 - precision_5: 0.9836 - recall_5: 0.9835\n"
          ]
        },
        {
          "output_type": "execute_result",
          "data": {
            "text/plain": [
              "[0.2156600058078766,\n",
              " 0.7192549705505371,\n",
              " 0.2039770483970642,\n",
              " 0.28177642822265625,\n",
              " 0.9835405349731445,\n",
              " 0.9835726022720337,\n",
              " 0.9835225939750671]"
            ]
          },
          "metadata": {},
          "execution_count": 35
        }
      ]
    }
  ]
}